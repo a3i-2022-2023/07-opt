{
 "cells": [
  {
   "cell_type": "code",
   "execution_count": 34,
   "metadata": {
    "slideshow": {
     "slide_type": "skip"
    }
   },
   "outputs": [
    {
     "name": "stdout",
     "output_type": "stream",
     "text": [
      "The autoreload extension is already loaded. To reload it, use:\n",
      "  %reload_ext autoreload\n"
     ]
    }
   ],
   "source": [
    "# ============================================================\n",
    "# Notebook setup\n",
    "# ============================================================\n",
    "\n",
    "%load_ext autoreload\n",
    "%autoreload 2\n",
    "\n",
    "# Control figure size\n",
    "interactive_figures = False\n",
    "if interactive_figures:\n",
    "    %matplotlib widget\n",
    "    figsize=(9, 3)\n",
    "else:\n",
    "    figsize=(14, 4)\n",
    "\n",
    "from util import util\n",
    "from eml.net.reader import keras_reader\n",
    "import numpy as np\n",
    "import warnings\n",
    "warnings.filterwarnings('ignore')"
   ]
  },
  {
   "cell_type": "markdown",
   "metadata": {
    "slideshow": {
     "slide_type": "slide"
    }
   },
   "source": [
    "# Encoding ML Models"
   ]
  },
  {
   "cell_type": "markdown",
   "metadata": {
    "slideshow": {
     "slide_type": "subslide"
    }
   },
   "source": [
    "## Encoding ML Models\n",
    "\n",
    "**We need to embed our ML model into an optimization model**\n",
    "\n",
    "The basic approach is based on two observations:\n",
    "\n",
    "* A neural network is a collection of connected neurons\n",
    "* So we just need to _encode each neuron_ using a given optimization method"
   ]
  },
  {
   "cell_type": "markdown",
   "metadata": {},
   "source": [
    "**Let's consider for example a ReLU neuron**\n",
    "\n",
    "$$\n",
    "y = \\max\\left(0, w^T x + \\theta\\right)\n",
    "$$\n",
    "\n",
    "Where $w$ is the (row) vector of weights and $b$ is the bias. It can be encoded by:\n",
    "\n",
    "* Introducing a variable for each input\n",
    "* Introducing a variable for the output\n",
    "* Modeling (e.g. in MILP, or SMT, or CP) the sum and max operators"
   ]
  },
  {
   "cell_type": "markdown",
   "metadata": {
    "slideshow": {
     "slide_type": "subslide"
    }
   },
   "source": [
    "## Encoding ML Models\n",
    "\n",
    "**In this case, we will adopt a MILP encoding for the relation $y = max(0, wx+\\theta)$**\n",
    "\n",
    "$$\\begin{align}\n",
    "& y - s = wx + \\theta \\\\\n",
    "& z = 1 \\Rightarrow s \\leq 0 \\\\\n",
    "& z = 0 \\Rightarrow y \\leq 0 \\\\\n",
    "& y, s \\geq 0, x \\in \\mathbb{R}^n, z \\in \\{0, 1\\}\n",
    "\\end{align}$$\n",
    "\n",
    "* $s$ is an auxiliary _slack variable_ and $z$ is an auxiliary binary variable\n",
    "* The implications are called _indicator constraints_\n",
    "* They are handled natively by some MILP solvers, or [they can be linearized](https://www.ibm.com/support/pages/difference-between-using-indicator-constraints-and-big-m-formulation)"
   ]
  },
  {
   "cell_type": "markdown",
   "metadata": {},
   "source": [
    "**Other encodings are viable for different optimization techniques**\n",
    "\n",
    "E.g. global constraints in CP, ITE predicates in SMT..."
   ]
  },
  {
   "cell_type": "markdown",
   "metadata": {
    "slideshow": {
     "slide_type": "subslide"
    }
   },
   "source": [
    "## Encoding ML Models\n",
    "\n",
    "**Let's have a better look at the encoding:**\n",
    "\n",
    "$$\\begin{align}\n",
    "& y - s = wx + \\theta \\\\\n",
    "& z = 1 \\Rightarrow s \\leq 0 \\\\\n",
    "& z = 0 \\Rightarrow y \\leq 0 \\\\\n",
    "& y, s \\geq 0, x \\in \\mathbb{R}^n, z \\in \\{0, 1\\}\n",
    "\\end{align}$$"
   ]
  },
  {
   "cell_type": "markdown",
   "metadata": {},
   "source": [
    "**If $z = 1$, it means that the neuron is _active_**\n",
    "\n",
    "* In this case $s$ is forced to 0, we have: $y = wx + \\theta$\n",
    "* ...And $wx + \\theta$ is non-negative"
   ]
  },
  {
   "cell_type": "markdown",
   "metadata": {
    "slideshow": {
     "slide_type": "subslide"
    }
   },
   "source": [
    "## Encoding ML Models\n",
    "\n",
    "**Let's have a better look at the encoding:**\n",
    "\n",
    "$$\\begin{align}\n",
    "& y - s = wx + \\theta \\\\\n",
    "& z = 1 \\Rightarrow s \\leq 0 \\\\\n",
    "& z = 0 \\Rightarrow y \\leq 0 \\\\\n",
    "& y, s \\geq 0, x \\in \\mathbb{R}^n, z \\in \\{0, 1\\}\n",
    "\\end{align}$$"
   ]
  },
  {
   "cell_type": "markdown",
   "metadata": {},
   "source": [
    "**If $z = 0$, it means that the neuron is _inactive_**\n",
    "\n",
    "* In this case $y$ (the neuron output) is 0\n",
    "* We have $s = wx + \\theta$ (note that $s$ does not contribute to the neuron output)\n",
    "* ...And $wx + \\theta$ is negative"
   ]
  },
  {
   "cell_type": "markdown",
   "metadata": {
    "slideshow": {
     "slide_type": "subslide"
    }
   },
   "source": [
    "## Loading the Network\n",
    "\n",
    "**We will handle the encoding via the [EMLlib](https://github.com/emlopt/emllib)**\n",
    "\n",
    "It's a small (and still rough) library for the EML approach. It allows to:\n",
    "\n",
    "* Load models from ML libraries (currently NNs from keras, DTs from sklearn)\n",
    "* Convert them into an internal format\n",
    "* ...And translate such format into an encoding for a target technique\n",
    "\n",
    "**As a first step, let's load both our trained models**"
   ]
  },
  {
   "cell_type": "code",
   "execution_count": 35,
   "metadata": {},
   "outputs": [],
   "source": [
    "knn0 = util.load_ml_model('nn0')\n",
    "knn1 = util.load_ml_model('nn1')"
   ]
  },
  {
   "cell_type": "markdown",
   "metadata": {},
   "source": [
    "...And then convert the in the EMLlib internal format:"
   ]
  },
  {
   "cell_type": "code",
   "execution_count": 36,
   "metadata": {},
   "outputs": [],
   "source": [
    "nn0 = keras_reader.read_keras_sequential(knn0)\n",
    "nn1 = keras_reader.read_keras_sequential(knn1)"
   ]
  },
  {
   "cell_type": "markdown",
   "metadata": {
    "slideshow": {
     "slide_type": "subslide"
    }
   },
   "source": [
    "## Loading the Network\n",
    "\n",
    "**Printing the loaded network shows \"bounds\" for each neuron**\n",
    "\n",
    "This is easier to parse for the Linear Regression model:"
   ]
  },
  {
   "cell_type": "code",
   "execution_count": 37,
   "metadata": {},
   "outputs": [
    {
     "data": {
      "text/plain": [
       "[input] (0, 0):[-inf, inf] (0, 1):[-inf, inf] (0, 2):[-inf, inf] (0, 3):[-inf, inf]\n",
       "[dense,linear] (1, 0):[-inf, inf]/[-inf, inf] (1, 1):[-inf, inf]/[-inf, inf] (1, 2):[-inf, inf]/[-inf, inf]"
      ]
     },
     "execution_count": 37,
     "metadata": {},
     "output_type": "execute_result"
    }
   ],
   "source": [
    "nn0"
   ]
  },
  {
   "cell_type": "markdown",
   "metadata": {},
   "source": [
    "The bounds represent the _domain_ of output of each neuron\n",
    "\n",
    "* Currently, most output have an _infinite range_"
   ]
  },
  {
   "cell_type": "markdown",
   "metadata": {},
   "source": [
    "**This is a problem since our MILP encoding for each neuron...**\n",
    "\n",
    "...Requires finite bounds to linearize the indicator constraints\n",
    "\n",
    "* Actually, the tighter the bounds, the better the MILP encoding will work"
   ]
  },
  {
   "cell_type": "markdown",
   "metadata": {
    "slideshow": {
     "slide_type": "subslide"
    }
   },
   "source": [
    "## Loading the Network\n",
    "\n",
    "**We can use 0 and 1 as bounds for all our inputs**\n",
    "\n",
    "...Since the population is normalized and $\\beta$ is typically a low value"
   ]
  },
  {
   "cell_type": "code",
   "execution_count": 38,
   "metadata": {},
   "outputs": [],
   "source": [
    "nn0.layer(0).update_lb(np.zeros(4))\n",
    "nn0.layer(0).update_ub(np.ones(4));"
   ]
  },
  {
   "cell_type": "markdown",
   "metadata": {},
   "source": [
    "**Internal bounds can be inferred with one round of _constraint propagation_**\n",
    "\n",
    "* This needs to be done for the weighted sum in each neuron\n",
    "* ...And for the ReLU, when actually present\n",
    "\n",
    "The process is implemented in the `ibr_bounds` function:"
   ]
  },
  {
   "cell_type": "code",
   "execution_count": 43,
   "metadata": {},
   "outputs": [
    {
     "data": {
      "text/plain": [
       "[input] (0, 0):[0.000, 1.000] (0, 1):[0.000, 1.000] (0, 2):[0.000, 1.000] (0, 3):[0.000, 1.000]\n",
       "[dense,linear] (1, 0):[-0.698, 1.417]/[-0.698, 1.417] (1, 1):[-0.241, 1.465]/[-0.241, 1.465] (1, 2):[0.032, 1.322]/[0.032, 1.322]"
      ]
     },
     "execution_count": 43,
     "metadata": {},
     "output_type": "execute_result"
    }
   ],
   "source": [
    "from eml.net.process import ibr_bounds\n",
    "ibr_bounds(nn0)\n",
    "nn0"
   ]
  },
  {
   "cell_type": "markdown",
   "metadata": {
    "slideshow": {
     "slide_type": "subslide"
    }
   },
   "source": [
    "## Network and I/O Variables\n",
    "\n",
    "**We will consider a planning problem over $eoh$ weeks**\n",
    "\n",
    "So, we will create variables to represent $S$, $I$, $R$, and $\\beta$ for those weeks:"
   ]
  },
  {
   "cell_type": "markdown",
   "metadata": {},
   "source": [
    "$$\\begin{align}\n",
    "& \\beta_{t} \\in [0, 1] & \\forall t = 0..eoh-1 \\\\\n",
    "& S_{t}, I_{t}, R_{t} \\in [0, 1] & \\forall t = 0..eoh\n",
    "\\end{align}$$"
   ]
  },
  {
   "cell_type": "markdown",
   "metadata": {},
   "source": [
    "* For week $t$ we do not need to represent the value of $\\beta$\n",
    "* ...But we need the $S, I, R$ variables to represent the final state\n",
    "* $S_0, I_0, R_0$ will be fixed to the values from the initial state\n",
    "\n",
    "**Our objective will be to _maximize $S_{eoh}$_**"
   ]
  },
  {
   "cell_type": "markdown",
   "metadata": {
    "slideshow": {
     "slide_type": "subslide"
    }
   },
   "source": [
    "## Network and I/O Variables\n",
    "\n",
    "**We will encode _an instance_ of our network _for each week_**\n",
    "\n",
    "Each will connect consecutive values of $S$, $I$, $R$"
   ]
  },
  {
   "cell_type": "markdown",
   "metadata": {},
   "source": [
    "$$\\begin{align}\n",
    "& (S_{t+1}, I_{t+1}, R_{t+1}) = \\operatorname{NN}(S_{t}, I_{t}, R_{t}, \\beta_{t}) & \\forall t = 0..eoh-1 \\\\\n",
    "& \\beta_{t} \\in [0, 1] & \\forall t = 0..eoh-1 \\\\\n",
    "& S_{t}, I_{t}, R_{t} \\in [0, 1] & \\forall t = 0..eoh\n",
    "\\end{align}$$"
   ]
  },
  {
   "cell_type": "markdown",
   "metadata": {},
   "source": [
    "* $\\operatorname{NN}(\\ldots)$ represents the network encoding\n",
    "* ...I.e. the equations we discussed early on in the lecture\n",
    "* Each network takes as input the value of $S$, $I$, $R$, and $\\beta$ for week $t$\n",
    "* ...And links them to the value of $S, I, R$ for week $t+1$"
   ]
  },
  {
   "cell_type": "markdown",
   "metadata": {
    "slideshow": {
     "slide_type": "subslide"
    }
   },
   "source": [
    "## Network ad I/O Variables\n",
    "\n",
    "**The code for the planning problem is in `solve_sir_planning`**\n",
    "\n",
    "We use the CBC solver via Google Or-tools:\n",
    "\n",
    "```python\n",
    "slv = pywraplp.Solver.CreateSolver('CBC')\n",
    "```\n",
    "\n",
    "We start by building the network I/O variables:\n",
    "\n",
    "```python\n",
    "for t in range(nweeks+1):\n",
    "    X['S', t] = slv.NumVar(0, 1, f'S_{t}')\n",
    "    X['I', t] = slv.NumVar(0, 1, f'I_{t}')\n",
    "    X['R', t] = slv.NumVar(0, 1, f'R_{t}')\n",
    "    if t < nweeks: X['b', t] = slv.NumVar(0, 1, f'b_{t}')\n",
    "```\n",
    "\n",
    "* The network will be embedded as an _encoding_\n",
    "* ...Which cannot be defined unless we have the variables first"
   ]
  },
  {
   "cell_type": "markdown",
   "metadata": {
    "slideshow": {
     "slide_type": "subslide"
    }
   },
   "source": [
    "## Network Encodings\n",
    "\n",
    "**The library we use handles multiple solvers via \"backend\" objects**\n",
    "\n",
    "Therefore we need to build a backend for Or-tools:\n",
    "\n",
    "```python\n",
    "bkd = ortools_backend.OrtoolsBackend()\n",
    "```\n",
    "\n",
    "* The backend defines the primitives to build the NN constraints\n",
    "\n",
    "**The encoding themselves are built using the `encode` function:**\n",
    "\n",
    "```python\n",
    "for t in range(1, nweeks+1):\n",
    "    vin = [X['S',t-1], X['I',t-1], X['R',t-1], X['b',t-1]]\n",
    "    vout = [X['S',t], X['I',t], X['R',t]]\n",
    "    encode(bkd, nn, slv, vin, vout, f'nn_{t}')\n",
    "```\n",
    "\n",
    "* Neurons are processed one by one\n",
    "* Intermediate variables are built as needed"
   ]
  },
  {
   "cell_type": "markdown",
   "metadata": {
    "slideshow": {
     "slide_type": "subslide"
    }
   },
   "source": [
    "## Non-Pharmaceutical Intervention\n",
    "\n",
    "**Now we need to setup the rest of the optimization model**\n",
    "\n",
    "...Since we delayed this even too much to focus on the NN encoding\n",
    "\n",
    "* At each week we can choose to apply a number of _NPIs_\n",
    "* ...Which (we remind) stands for \"Non-Pharmaceutical Interventions\"\n",
    "\n",
    "**We will assume each NPI $i$ has a (socio-economical) _cost $c_i$_**\n",
    "\n",
    "* ...And can reduce the current $\\beta$ value by a _factor $r_i$_\n",
    "* $\\beta$ has a \"base value\", which depends on the disease itself\n",
    "\n",
    "So, if we apply NPIs 1, 3, and 4:\n",
    "\n",
    "* We pay a cost equal to $c_1 + c_3 + c_4$\n",
    "* And we have $\\beta = r_1 r_3 r_4 \\beta_{base}$\n",
    "\n",
    "**Using multiple NPIs has diminishing returns**"
   ]
  },
  {
   "cell_type": "markdown",
   "metadata": {
    "slideshow": {
     "slide_type": "subslide"
    }
   },
   "source": [
    "## Non-Pharmaceutical Intervention\n",
    "\n",
    "**This part of the problem can be formalized as follows:**\n",
    "\n",
    "We introduce a binary variable $x_{it}$ for each NPI and week (except the last)\n",
    "\n",
    "$$\\begin{align}\n",
    "& x_{it} \\in \\{0, 1\\} & \\forall i = 1...n_{npi}, \\forall t = 0...eoh-1\n",
    "\\end{align}$$\n",
    "\n",
    "* $x_{it} = 1$ iff we apply NPI $i$ at week $t$"
   ]
  },
  {
   "cell_type": "markdown",
   "metadata": {},
   "source": [
    "**We assume the total cost should not exceed a given budget**\n",
    "\n",
    "$$\n",
    "\\sum_{t = 0}^{eoh-1} \\sum_{i=1}^{n_{npi}} c_{i} x_{it} \\leq C\n",
    "$$\n",
    "\n",
    "* Where $C$ is the budget value"
   ]
  },
  {
   "cell_type": "markdown",
   "metadata": {
    "slideshow": {
     "slide_type": "subslide"
    }
   },
   "source": [
    "## Non-Pharmaceutical Intervention\n",
    "\n",
    "**The effect on $\\beta$ is non-linear and trickier to handle**\n",
    "\n",
    "We linearize it by introducing multiple variables for $\\beta$ at each week\n",
    "\n",
    "* $\\beta_{0t}$ represents the \"base\" $\\beta$ value\n",
    "* $\\beta_{it}$ represents $\\beta$ as affected by the $i$-th NPI\n",
    "* Therefore $\\beta_{n_{npi},t}$ is the same as the variable connected to the NN for week $t$"
   ]
  },
  {
   "cell_type": "markdown",
   "metadata": {},
   "source": [
    "**For each intermediate variable we have:**\n",
    "\n",
    "$$\\begin{align}\n",
    "& \\beta_{it} \\geq r_i \\beta_{i-1,t} - 1 + x_{it}  & \\forall i = 1..n_{npi}, \\forall t = 0..eoh-1 \\\\\n",
    "& \\beta_{it} \\geq \\beta_{i-1,t} - x_{it}  & \\forall i = 1..n_{npi}, \\forall t = 0..eoh-1\n",
    "\\end{align}$$\n",
    "\n",
    "* If $x_{it} = 1$, the first constraint is active and the second is trivialized\n",
    "* If $x_{it} = 0$, the opposite is true"
   ]
  },
  {
   "cell_type": "markdown",
   "metadata": {
    "slideshow": {
     "slide_type": "subslide"
    }
   },
   "source": [
    "## Non-Pharmaceutical Intervention\n",
    "\n",
    "**An analogous set of constraints handles the upper bounds**\n",
    "\n",
    "$$\\begin{align}\n",
    "& \\beta_{it} \\leq r_i \\beta_{i-1,t} + 1 - x_{it}  & \\forall i = 1..n_{npi}, \\forall t = 0..eoh-1 \\\\\n",
    "& \\beta_{it} \\leq \\beta_{i-1,t} + x_{it}  & \\forall i = 1..n_{npi}, \\forall t = 0..eoh-1\n",
    "\\end{align}$$\n",
    "\n",
    "Together with the previous set:\n",
    "\n",
    "$$\\begin{align}\n",
    "& \\beta_{it} \\geq r_i \\beta_{i-1,t} - 1 + x_{it}  & \\forall i = 1..n_{npi}, \\forall t = 0..eoh-1 \\\\\n",
    "& \\beta_{it} \\geq \\beta_{i-1,t} - x_{it}  & \\forall i = 1..n_{npi}, \\forall t = 0..eoh-1\n",
    "\\end{align}$$\n",
    "\n",
    "...We obtain the desired behavior, e.g.:\n",
    "\n",
    "* If $x_{1t} = x_{3t} = x_{4t} = 1$\n",
    "* ...Then $\\beta_{n_{npi} t} = r_1 r_3 r_4 \\beta_{0,t}$\n",
    "\n",
    "**The details of the code can be found in the `solve_sir_planning`**"
   ]
  },
  {
   "cell_type": "markdown",
   "metadata": {
    "slideshow": {
     "slide_type": "subslide"
    }
   },
   "source": [
    "## Solving the NPI Planning Problem\n",
    "\n",
    "**We will consider the following set of NPIs**"
   ]
  },
  {
   "cell_type": "code",
   "execution_count": 46,
   "metadata": {},
   "outputs": [],
   "source": [
    "npis = [\n",
    "    util.NPI('masks-indoor', effect=0.75, cost=1),\n",
    "    util.NPI('masks-outdoor', effect=0.9, cost=1),\n",
    "    util.NPI('dad', effect=0.7, cost=3),\n",
    "    util.NPI('bar-rest', effect=0.6, cost=3),\n",
    "    util.NPI('transport', effect=0.6, cost=4)\n",
    "]"
   ]
  },
  {
   "cell_type": "markdown",
   "metadata": {},
   "source": [
    "We will consider a horizon of 3 weeks and the following parameters:"
   ]
  },
  {
   "cell_type": "code",
   "execution_count": 48,
   "metadata": {},
   "outputs": [],
   "source": [
    "S0, I0, R0 = 0.99, 0.01, 0.00\n",
    "nweeks = 3\n",
    "tlim = 30\n",
    "beta_base = 0.35\n",
    "budget = 20\n",
    "gamma = 1/14"
   ]
  },
  {
   "cell_type": "markdown",
   "metadata": {},
   "source": [
    "* $\\beta$ has a very high value (to better see the impact of our decisions) "
   ]
  },
  {
   "cell_type": "markdown",
   "metadata": {
    "slideshow": {
     "slide_type": "subslide"
    }
   },
   "source": [
    "## Solution and Evalution\n",
    "\n",
    "**Let's start by using the (much more accurate) NN model**"
   ]
  },
  {
   "cell_type": "code",
   "execution_count": 55,
   "metadata": {},
   "outputs": [
    {
     "name": "stdout",
     "output_type": "stream",
     "text": [
      "Problem closed: True\n",
      "CPU times: user 1.57 s, sys: 60.8 ms, total: 1.63 s\n",
      "Wall time: 1.63 s\n"
     ]
    },
    {
     "data": {
      "text/html": [
       "<div>\n",
       "<style scoped>\n",
       "    .dataframe tbody tr th:only-of-type {\n",
       "        vertical-align: middle;\n",
       "    }\n",
       "\n",
       "    .dataframe tbody tr th {\n",
       "        vertical-align: top;\n",
       "    }\n",
       "\n",
       "    .dataframe thead th {\n",
       "        text-align: right;\n",
       "    }\n",
       "</style>\n",
       "<table border=\"1\" class=\"dataframe\">\n",
       "  <thead>\n",
       "    <tr style=\"text-align: right;\">\n",
       "      <th></th>\n",
       "      <th>S</th>\n",
       "      <th>I</th>\n",
       "      <th>R</th>\n",
       "      <th>b</th>\n",
       "      <th>masks-indoor</th>\n",
       "      <th>masks-outdoor</th>\n",
       "      <th>dad</th>\n",
       "      <th>bar-rest</th>\n",
       "      <th>transport</th>\n",
       "    </tr>\n",
       "  </thead>\n",
       "  <tbody>\n",
       "    <tr>\n",
       "      <th>0</th>\n",
       "      <td>0.990000</td>\n",
       "      <td>0.010000</td>\n",
       "      <td>0.000000</td>\n",
       "      <td>0.14175</td>\n",
       "      <td>1.0</td>\n",
       "      <td>1.0</td>\n",
       "      <td>0.0</td>\n",
       "      <td>1.0</td>\n",
       "      <td>0.0</td>\n",
       "    </tr>\n",
       "    <tr>\n",
       "      <th>1</th>\n",
       "      <td>0.944169</td>\n",
       "      <td>0.014658</td>\n",
       "      <td>0.010808</td>\n",
       "      <td>0.09450</td>\n",
       "      <td>1.0</td>\n",
       "      <td>0.0</td>\n",
       "      <td>0.0</td>\n",
       "      <td>1.0</td>\n",
       "      <td>1.0</td>\n",
       "    </tr>\n",
       "    <tr>\n",
       "      <th>2</th>\n",
       "      <td>0.929573</td>\n",
       "      <td>0.010191</td>\n",
       "      <td>0.023377</td>\n",
       "      <td>0.11025</td>\n",
       "      <td>1.0</td>\n",
       "      <td>0.0</td>\n",
       "      <td>1.0</td>\n",
       "      <td>1.0</td>\n",
       "      <td>0.0</td>\n",
       "    </tr>\n",
       "    <tr>\n",
       "      <th>3</th>\n",
       "      <td>0.912024</td>\n",
       "      <td>0.017791</td>\n",
       "      <td>0.036351</td>\n",
       "      <td>NaN</td>\n",
       "      <td>NaN</td>\n",
       "      <td>NaN</td>\n",
       "      <td>NaN</td>\n",
       "      <td>NaN</td>\n",
       "      <td>NaN</td>\n",
       "    </tr>\n",
       "  </tbody>\n",
       "</table>\n",
       "</div>"
      ],
      "text/plain": [
       "          S         I         R        b  masks-indoor  masks-outdoor  dad  \\\n",
       "0  0.990000  0.010000  0.000000  0.14175           1.0            1.0  0.0   \n",
       "1  0.944169  0.014658  0.010808  0.09450           1.0            0.0  0.0   \n",
       "2  0.929573  0.010191  0.023377  0.11025           1.0            0.0  1.0   \n",
       "3  0.912024  0.017791  0.036351      NaN           NaN            NaN  NaN   \n",
       "\n",
       "   bar-rest  transport  \n",
       "0       1.0        0.0  \n",
       "1       1.0        1.0  \n",
       "2       1.0        0.0  \n",
       "3       NaN        NaN  "
      ]
     },
     "execution_count": 55,
     "metadata": {},
     "output_type": "execute_result"
    }
   ],
   "source": [
    "%%time\n",
    "sol, closed = util.solve_sir_planning(knn1, npis, S0, I0, R0, beta_base=beta_base, budget=budget,\n",
    "                                      nweeks=nweeks, tlim=tlim)\n",
    "print(f'Problem closed: {closed}')\n",
    "sol_df = util.sol_to_dataframe(sol, npis, nweeks)\n",
    "sol_df"
   ]
  },
  {
   "cell_type": "markdown",
   "metadata": {},
   "source": [
    "* The result seem reasonable\n",
    "* ...But how can we know for sure?"
   ]
  },
  {
   "cell_type": "markdown",
   "metadata": {
    "slideshow": {
     "slide_type": "subslide"
    }
   },
   "source": [
    "## Solution and Evalution\n",
    "\n",
    "**Our optimization model relies on _predictions_**\n",
    "\n",
    "We need to test their quality on the simulator:"
   ]
  },
  {
   "cell_type": "code",
   "execution_count": 57,
   "metadata": {},
   "outputs": [
    {
     "data": {
      "text/html": [
       "<div>\n",
       "<style scoped>\n",
       "    .dataframe tbody tr th:only-of-type {\n",
       "        vertical-align: middle;\n",
       "    }\n",
       "\n",
       "    .dataframe tbody tr th {\n",
       "        vertical-align: top;\n",
       "    }\n",
       "\n",
       "    .dataframe thead th {\n",
       "        text-align: right;\n",
       "    }\n",
       "</style>\n",
       "<table border=\"1\" class=\"dataframe\">\n",
       "  <thead>\n",
       "    <tr style=\"text-align: right;\">\n",
       "      <th></th>\n",
       "      <th>S</th>\n",
       "      <th>I</th>\n",
       "      <th>R</th>\n",
       "    </tr>\n",
       "  </thead>\n",
       "  <tbody>\n",
       "    <tr>\n",
       "      <th>0</th>\n",
       "      <td>0.990000</td>\n",
       "      <td>0.010000</td>\n",
       "      <td>0.000000</td>\n",
       "    </tr>\n",
       "    <tr>\n",
       "      <th>1</th>\n",
       "      <td>0.977482</td>\n",
       "      <td>0.016106</td>\n",
       "      <td>0.006412</td>\n",
       "    </tr>\n",
       "    <tr>\n",
       "      <th>2</th>\n",
       "      <td>0.966344</td>\n",
       "      <td>0.018582</td>\n",
       "      <td>0.015075</td>\n",
       "    </tr>\n",
       "    <tr>\n",
       "      <th>3</th>\n",
       "      <td>0.950792</td>\n",
       "      <td>0.023622</td>\n",
       "      <td>0.025586</td>\n",
       "    </tr>\n",
       "  </tbody>\n",
       "</table>\n",
       "</div>"
      ],
      "text/plain": [
       "          S         I         R\n",
       "0  0.990000  0.010000  0.000000\n",
       "1  0.977482  0.016106  0.006412\n",
       "2  0.966344  0.018582  0.015075\n",
       "3  0.950792  0.023622  0.025586"
      ]
     },
     "execution_count": 57,
     "metadata": {},
     "output_type": "execute_result"
    }
   ],
   "source": [
    "beta_sched = sol_df.iloc[:-1]['b']\n",
    "util.simulate_SIR_NPI(S0, I0, R0, beta_sched, gamma, steps_per_day=1)"
   ]
  },
  {
   "cell_type": "markdown",
   "metadata": {},
   "source": [
    "Unless we've been unlucky during training (it's stochastic!)\n",
    "\n",
    "* The final value for $S$ should be close to 0.95\n",
    "* ...And _possibly quite different_ from our model predictions!"
   ]
  },
  {
   "cell_type": "markdown",
   "metadata": {
    "slideshow": {
     "slide_type": "subslide"
    }
   },
   "source": [
    "## Solution and Evalution\n",
    "\n",
    "**It's even more clear if we use the Linear Regression model**"
   ]
  },
  {
   "cell_type": "code",
   "execution_count": 58,
   "metadata": {},
   "outputs": [
    {
     "name": "stdout",
     "output_type": "stream",
     "text": [
      "Problem closed: True\n",
      "CPU times: user 487 ms, sys: 33.3 ms, total: 521 ms\n",
      "Wall time: 521 ms\n"
     ]
    },
    {
     "data": {
      "text/html": [
       "<div>\n",
       "<style scoped>\n",
       "    .dataframe tbody tr th:only-of-type {\n",
       "        vertical-align: middle;\n",
       "    }\n",
       "\n",
       "    .dataframe tbody tr th {\n",
       "        vertical-align: top;\n",
       "    }\n",
       "\n",
       "    .dataframe thead th {\n",
       "        text-align: right;\n",
       "    }\n",
       "</style>\n",
       "<table border=\"1\" class=\"dataframe\">\n",
       "  <thead>\n",
       "    <tr style=\"text-align: right;\">\n",
       "      <th></th>\n",
       "      <th>S</th>\n",
       "      <th>I</th>\n",
       "      <th>R</th>\n",
       "      <th>b</th>\n",
       "      <th>masks-indoor</th>\n",
       "      <th>masks-outdoor</th>\n",
       "      <th>dad</th>\n",
       "      <th>bar-rest</th>\n",
       "      <th>transport</th>\n",
       "    </tr>\n",
       "  </thead>\n",
       "  <tbody>\n",
       "    <tr>\n",
       "      <th>0</th>\n",
       "      <td>0.990000</td>\n",
       "      <td>0.010000</td>\n",
       "      <td>0.000000</td>\n",
       "      <td>0.1575</td>\n",
       "      <td>1.0</td>\n",
       "      <td>0.0</td>\n",
       "      <td>0.0</td>\n",
       "      <td>1.0</td>\n",
       "      <td>0.0</td>\n",
       "    </tr>\n",
       "    <tr>\n",
       "      <th>1</th>\n",
       "      <td>0.765027</td>\n",
       "      <td>0.183567</td>\n",
       "      <td>0.053728</td>\n",
       "      <td>0.0945</td>\n",
       "      <td>1.0</td>\n",
       "      <td>0.0</td>\n",
       "      <td>0.0</td>\n",
       "      <td>1.0</td>\n",
       "      <td>1.0</td>\n",
       "    </tr>\n",
       "    <tr>\n",
       "      <th>2</th>\n",
       "      <td>0.608145</td>\n",
       "      <td>0.235826</td>\n",
       "      <td>0.160640</td>\n",
       "      <td>0.0945</td>\n",
       "      <td>1.0</td>\n",
       "      <td>0.0</td>\n",
       "      <td>0.0</td>\n",
       "      <td>1.0</td>\n",
       "      <td>1.0</td>\n",
       "    </tr>\n",
       "    <tr>\n",
       "      <th>3</th>\n",
       "      <td>0.492628</td>\n",
       "      <td>0.235837</td>\n",
       "      <td>0.278775</td>\n",
       "      <td>NaN</td>\n",
       "      <td>NaN</td>\n",
       "      <td>NaN</td>\n",
       "      <td>NaN</td>\n",
       "      <td>NaN</td>\n",
       "      <td>NaN</td>\n",
       "    </tr>\n",
       "  </tbody>\n",
       "</table>\n",
       "</div>"
      ],
      "text/plain": [
       "          S         I         R       b  masks-indoor  masks-outdoor  dad  \\\n",
       "0  0.990000  0.010000  0.000000  0.1575           1.0            0.0  0.0   \n",
       "1  0.765027  0.183567  0.053728  0.0945           1.0            0.0  0.0   \n",
       "2  0.608145  0.235826  0.160640  0.0945           1.0            0.0  0.0   \n",
       "3  0.492628  0.235837  0.278775     NaN           NaN            NaN  NaN   \n",
       "\n",
       "   bar-rest  transport  \n",
       "0       1.0        0.0  \n",
       "1       1.0        1.0  \n",
       "2       1.0        1.0  \n",
       "3       NaN        NaN  "
      ]
     },
     "execution_count": 58,
     "metadata": {},
     "output_type": "execute_result"
    }
   ],
   "source": [
    "%%time\n",
    "sol2, closed2 = util.solve_sir_planning(knn0, npis, S0, I0, R0, beta_base=beta_base, budget=budget,\n",
    "                                      nweeks=nweeks, tlim=tlim)\n",
    "print(f'Problem closed: {closed}')\n",
    "sol_df2 = util.sol_to_dataframe(sol2, npis, nweeks)\n",
    "sol_df2"
   ]
  },
  {
   "cell_type": "markdown",
   "metadata": {},
   "source": [
    "* Now the solution process is _very fast_\n",
    "* ...And it _looks like a disaster_"
   ]
  },
  {
   "cell_type": "markdown",
   "metadata": {
    "slideshow": {
     "slide_type": "subslide"
    }
   },
   "source": [
    "## Solution and Evalution\n",
    "\n",
    "**However, if we evaluate the solutions via the simulator...**"
   ]
  },
  {
   "cell_type": "code",
   "execution_count": 59,
   "metadata": {},
   "outputs": [
    {
     "data": {
      "text/html": [
       "<div>\n",
       "<style scoped>\n",
       "    .dataframe tbody tr th:only-of-type {\n",
       "        vertical-align: middle;\n",
       "    }\n",
       "\n",
       "    .dataframe tbody tr th {\n",
       "        vertical-align: top;\n",
       "    }\n",
       "\n",
       "    .dataframe thead th {\n",
       "        text-align: right;\n",
       "    }\n",
       "</style>\n",
       "<table border=\"1\" class=\"dataframe\">\n",
       "  <thead>\n",
       "    <tr style=\"text-align: right;\">\n",
       "      <th></th>\n",
       "      <th>S</th>\n",
       "      <th>I</th>\n",
       "      <th>R</th>\n",
       "    </tr>\n",
       "  </thead>\n",
       "  <tbody>\n",
       "    <tr>\n",
       "      <th>0</th>\n",
       "      <td>0.990000</td>\n",
       "      <td>0.010000</td>\n",
       "      <td>0.000000</td>\n",
       "    </tr>\n",
       "    <tr>\n",
       "      <th>1</th>\n",
       "      <td>0.975265</td>\n",
       "      <td>0.017934</td>\n",
       "      <td>0.006801</td>\n",
       "    </tr>\n",
       "    <tr>\n",
       "      <th>2</th>\n",
       "      <td>0.962909</td>\n",
       "      <td>0.020653</td>\n",
       "      <td>0.016438</td>\n",
       "    </tr>\n",
       "    <tr>\n",
       "      <th>3</th>\n",
       "      <td>0.948935</td>\n",
       "      <td>0.023577</td>\n",
       "      <td>0.027488</td>\n",
       "    </tr>\n",
       "  </tbody>\n",
       "</table>\n",
       "</div>"
      ],
      "text/plain": [
       "          S         I         R\n",
       "0  0.990000  0.010000  0.000000\n",
       "1  0.975265  0.017934  0.006801\n",
       "2  0.962909  0.020653  0.016438\n",
       "3  0.948935  0.023577  0.027488"
      ]
     },
     "execution_count": 59,
     "metadata": {},
     "output_type": "execute_result"
    }
   ],
   "source": [
    "beta_sched2 = sol_df2.iloc[:-1]['b']\n",
    "util.simulate_SIR_NPI(S0, I0, R0, beta_sched2, gamma, steps_per_day=1)"
   ]
  },
  {
   "cell_type": "markdown",
   "metadata": {},
   "source": [
    "...They are not bad at all!\n",
    "\n",
    "**Our ML models are making mistakes**\n",
    "\n",
    "* For many reasons: bias, compound error, \"weak spots\"\n",
    "* ...But as long as they _guide the solver_ in the right place, we get a good solution\n",
    "\n",
    "This is good news, but leaves some open issues (see later)"
   ]
  },
  {
   "cell_type": "markdown",
   "metadata": {
    "slideshow": {
     "slide_type": "subslide"
    }
   },
   "source": [
    "## Solution and Evaluation\n",
    "\n",
    "**The main issue is: how much can we trust our models?**\n",
    "\n",
    "In our case, it turns out the answer is \"a lot\"\n",
    "\n",
    "* Here's what we get by solving the problem via brute force:"
   ]
  },
  {
   "cell_type": "code",
   "execution_count": 62,
   "metadata": {},
   "outputs": [
    {
     "name": "stdout",
     "output_type": "stream",
     "text": [
      "CPU times: user 25.9 s, sys: 0 ns, total: 25.9 s\n",
      "Wall time: 25.9 s\n"
     ]
    },
    {
     "data": {
      "text/plain": [
       "0.9554715100410379"
      ]
     },
     "execution_count": 62,
     "metadata": {},
     "output_type": "execute_result"
    }
   ],
   "source": [
    "%%time\n",
    "best_S, best_sched = util.solve_sir_brute_force(npis, S0, I0, R0, beta_base, gamma, nweeks, budget)\n",
    "best_S"
   ]
  },
  {
   "cell_type": "markdown",
   "metadata": {},
   "source": [
    "* The NN solution in particular is actually pretty good\n",
    "* ...And we obtain it in much less time\n",
    "* As the problem size grows, the gap in computation time becomes larger"
   ]
  },
  {
   "cell_type": "markdown",
   "metadata": {
    "slideshow": {
     "slide_type": "subslide"
    }
   },
   "source": [
    "## Some Considerations\n",
    "\n",
    "**This kind of hybrid approach can be complex to build**\n",
    "\n",
    "* But sometimes it's (almost) the only choice!\n",
    "* It generally worked in our case"
   ]
  },
  {
   "cell_type": "markdown",
   "metadata": {},
   "source": [
    "**EML-like approaches can be used to generate adversarial examples**\n",
    "\n",
    "* It is at the basis of [some tools for NN verification](https://github.com/NeuralNetworkVerification/Marabou)"
   ]
  },
  {
   "cell_type": "markdown",
   "metadata": {},
   "source": [
    "**There are several _open issues_**\n",
    "\n",
    "* The optimizer often ends up finding weaknesses in the ML model\n",
    "* The approach scalability is limited"
   ]
  }
 ],
 "metadata": {
  "celltoolbar": "Slideshow",
  "kernelspec": {
   "display_name": "Python 3 (ipykernel)",
   "language": "python",
   "name": "python3"
  },
  "language_info": {
   "codemirror_mode": {
    "name": "ipython",
    "version": 3
   },
   "file_extension": ".py",
   "mimetype": "text/x-python",
   "name": "python",
   "nbconvert_exporter": "python",
   "pygments_lexer": "ipython3",
   "version": "3.8.10"
  },
  "rise": {
   "center": false,
   "enable_chalkboard": true,
   "transition": "fade"
  }
 },
 "nbformat": 4,
 "nbformat_minor": 4
}
