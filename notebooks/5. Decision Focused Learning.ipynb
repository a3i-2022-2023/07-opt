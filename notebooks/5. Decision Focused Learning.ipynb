{
 "cells": [
  {
   "cell_type": "code",
   "execution_count": 23,
   "metadata": {
    "slideshow": {
     "slide_type": "skip"
    }
   },
   "outputs": [
    {
     "name": "stdout",
     "output_type": "stream",
     "text": [
      "The autoreload extension is already loaded. To reload it, use:\n",
      "  %reload_ext autoreload\n"
     ]
    }
   ],
   "source": [
    "# ============================================================\n",
    "# Notebook setup\n",
    "# ============================================================\n",
    "\n",
    "%load_ext autoreload\n",
    "%autoreload 2\n",
    "\n",
    "# Control figure size\n",
    "interactive_figures = False\n",
    "if interactive_figures:\n",
    "    %matplotlib widget\n",
    "    figsize=(9, 3)\n",
    "else:\n",
    "    figsize=(14, 4)\n",
    "\n",
    "from util import util\n",
    "from tensorflow import keras\n",
    "import warnings\n",
    "warnings.filterwarnings('ignore')\n",
    "\n",
    "# Load pre-trained models\n",
    "fsm_early = keras.models.load_model('fsm_early')\n",
    "fsm_late = keras.models.load_model('fsm_late')\n",
    "\n",
    "# Generate dataset\n",
    "nitems, nsamples = 10, 500\n",
    "data = util.generate_market_dataset(nsamples, nitems, seed=2, noise=.02)\n",
    "data_tr, data_ts = util.train_test_split(data, test_size=0.3, seed=42)\n",
    "tr_in, tr_out = data_tr.index.values, data_tr.values\n",
    "ts_in, ts_out = data_ts.index.values, data_ts.values\n",
    "\n",
    "# Define the optimization problem\n",
    "prb = util.generate_market_problem(nitems=nitems, rel_req=0.5, seed=42)"
   ]
  },
  {
   "cell_type": "markdown",
   "metadata": {
    "slideshow": {
     "slide_type": "slide"
    }
   },
   "source": [
    "# Decision-Focused Learning"
   ]
  },
  {
   "cell_type": "markdown",
   "metadata": {
    "slideshow": {
     "slide_type": "subslide"
    }
   },
   "source": [
    "## The Main Challenge\n",
    "\n",
    "**We are now ready to tackled decision-focused learning**\n",
    "\n",
    "Let's start from the \"holy grail\" problem:\n",
    "\n",
    "$$\n",
    "\\text{argmin}_{\\theta} \\left\\{ \\sum_{i=1}^m c(z^*(y_i), \\hat{y}_i) \\mid y = f(\\hat{x}, \\theta) \\right\\}\n",
    "$$\n",
    "\n",
    "**Unfortunately, the $\\text{argmin}$ used to define $z^*(y_i)$ is _non-differentiable_**\n",
    "\n",
    "* A small change in the prediction vector $y_i$\n",
    "* ...May cause a large/discrete change in the optimal solution $z_i$\n",
    "\n",
    "This is certainly the case for our example problem\n",
    "\n",
    "> **How are we going to deal with this?**"
   ]
  },
  {
   "cell_type": "markdown",
   "metadata": {
    "slideshow": {
     "slide_type": "subslide"
    }
   },
   "source": [
    "## Towards a Solution\n",
    "\n",
    "**A possible solution consists in using a _surrogate loss_**\n",
    "\n",
    "For the $i$-th example:\n",
    "\n",
    "* Since $z^*(\\hat{y}_i)$ is the _true optimal solution_ for the true costs $\\hat{y}_i$\n",
    "* We expect that to _remain optimal_ for any good vector $y_i$ of predicted paramters"
   ]
  },
  {
   "cell_type": "markdown",
   "metadata": {},
   "source": [
    "**In practice, we could train the model to minimize this _contrastive loss_:**\n",
    "\n",
    "$$\n",
    "c(z^*(\\hat{y}_i), y_i) - c(z^*(y_i), y_i)\n",
    "$$\n",
    "\n",
    "$z^*(y_i)$ is the cost minimizer for the estimated parameters $y_i$\n",
    "\n",
    "* I.e. our model _thinks_ that this is the correct solution for the $i$-th example\n",
    "* ..But $z^*(\\hat{y}_i)$ is the true optimum for the example\n",
    "\n",
    "**The contrastive terms pushes the ML model towards correcting the mistake**"
   ]
  },
  {
   "cell_type": "markdown",
   "metadata": {
    "slideshow": {
     "slide_type": "subslide"
    }
   },
   "source": [
    "## Towards a Solution\n",
    "\n",
    "**Let's consider again our contrastive loss:**\n",
    "\n",
    "$$\n",
    "c(z^*(\\hat{y}_i), y_i) - c(z^*(y_i), y_i)\n",
    "$$\n",
    "\n",
    "We wish to backpropagata by differentiating over $y_i = f(\\hat{x}_i, \\theta)$\n",
    "\n",
    "* The loss contains a constant, i.e. $z^*(\\hat{y}_i)$\n",
    "* ...A non-differentiable term, i.e. $z^*(y_i)$ that still depends on $y_i$\n",
    "* ...And finally a naturally differentiable term, i.e. $c(\\cdot, y_i)$\n",
    "\n"
   ]
  },
  {
   "cell_type": "markdown",
   "metadata": {},
   "source": [
    "**This will be enough for us**\n",
    "\n",
    "* We will _pretend that $z^*(y_i)$ is fixed_, even if it depends on $y_i$\n",
    "* It can be proved that, under some assumptions, this yields a valid [subgradient](https://en.wikipedia.org/wiki/Subderivative)"
   ]
  },
  {
   "cell_type": "markdown",
   "metadata": {
    "slideshow": {
     "slide_type": "subslide"
    }
   },
   "source": [
    "## An Example on Our Market Problem\n",
    "\n",
    "**Let's use our market problem, for the $i$-th example**\n",
    "\n",
    "$$\n",
    "\\text{argmin}_z \\{ y_i^T z \\mid v^T z \\geq r, z \\in \\{0, 1\\}^n \\}\n",
    "$$\n",
    "\n",
    "This satisfied the required assumption\n",
    "\n",
    "* In particular, the cost expression (i.e. $y_i^T z$) is differentiable in $y_i$"
   ]
  },
  {
   "cell_type": "markdown",
   "metadata": {},
   "source": [
    "**Therefore, we can get a valid subgradient:**\n",
    "\n",
    "* First we compute the optimal solution $z_i = z^*(y_i)$ (\"in the forward pass\")\n",
    "* Then we compute $\\nabla_{y} (y^T z_i^*(\\hat{y}_i) - y^T z_i) = z_i^*(\\hat{y}_i) - z^*(y_i)$\n",
    "* I.e. the difference between optima w.r.t. the true and the predicted costs\n",
    "\n",
    "We can do this by relying on automatic differentiation"
   ]
  },
  {
   "cell_type": "markdown",
   "metadata": {
    "slideshow": {
     "slide_type": "subslide"
    }
   },
   "source": [
    "## Almost There...\n",
    "\n",
    "**Let's recap our plan**\n",
    "\n",
    "* When we evaluate our ML model, we need to solve the market problem\n",
    "* ...So as to compute $z^*(y_i)$ for each example (in the mini-batch)\n",
    "* Then we compute the loss:\n",
    "\n",
    "$$\n",
    "L_{C}(y, \\hat{y}) = \\sum_{i = 1}^m y_i^T (z^*(\\hat{y}_i) - z^*(y_i))\n",
    "$$\n",
    "\n",
    "Finally we can use automatic differentiation (as usual) to get the subgradient"
   ]
  },
  {
   "cell_type": "markdown",
   "metadata": {
    "slideshow": {
     "slide_type": "fragment"
    }
   },
   "source": [
    "> **Except that with linear costs this plan has a fatal flow**"
   ]
  },
  {
   "cell_type": "markdown",
   "metadata": {
    "slideshow": {
     "slide_type": "subslide"
    }
   },
   "source": [
    "## There, Finally!\n",
    "\n",
    "**The problem is that our loss admits a _trivial solution_**\n",
    "\n",
    "$$\n",
    "L_{C}(y, \\hat{y}) = \\sum_{i = 1}^m y_i^T (z^*(\\hat{y}_i) - z^*(y_i))\n",
    "$$\n",
    "\n",
    "* All contrastive terms are _non-negative_ by definition\n",
    "* ...And it's _easy to make them null_ by just predicting $y_i = 0$ for all examples\n",
    "\n",
    "**A [possible fix](https://people.cs.kuleuven.be/~tias.guns/files/ijcai21_nce_solpool.pdf) consists in using this modified function**\n",
    "\n",
    "$$\n",
    "L_{\\mathit{CR}}(y, \\hat{y}) = \\sum_{i = 1}^m y_i^T (z^*(\\hat{y}_i) - z^*(y_i)) + \\hat{y}_i^T (z^*(y_i) - z^*(\\hat{y}_i))\n",
    "$$\n",
    "\n",
    "* This is another surrogate loss (ready for subgradient computation)"
   ]
  },
  {
   "cell_type": "markdown",
   "metadata": {
    "slideshow": {
     "slide_type": "subslide"
    }
   },
   "source": [
    "## There, Finally!\n",
    "\n",
    "**Let's examine the modified loss**\n",
    "\n",
    "$$\n",
    "L_{\\mathit{CR}}(y, \\hat{y}) = \\sum_{i = 1}^m \\underbrace{y_i^T (z^*(\\hat{y}_i) - z^*(y_i))}_{\\text{contrastive}} + \\underbrace{\\hat{y}_i^T (z^*(y_i) - z^*(\\hat{y}_i))}_{\\text{regret}}\n",
    "$$\n",
    "\n",
    "The new term $\\hat{y}_i^T (z^*(y_i) - z^*(\\hat{y}_i))$ is the _regret_:\n",
    "\n",
    "* I.e. it's the additional cost we pay (under the true parameter values $\\hat{y}_i$\n",
    "* ...For not having guessed correctly the true optimal solution\n",
    "\n",
    "Both terms are guaranteed non-negative and therefore $L_{CR}(y, \\hat{y}) \\geq 0$"
   ]
  },
  {
   "cell_type": "markdown",
   "metadata": {},
   "source": [
    "**We wish _both terms to be small_ (hence the loss is valid)**"
   ]
  },
  {
   "cell_type": "markdown",
   "metadata": {
    "slideshow": {
     "slide_type": "subslide"
    }
   },
   "source": [
    "## There, Finally!\n",
    "\n",
    "**It is convenient to rewrite the loss as:**\n",
    "\n",
    "$$\n",
    "L_{CR}(y, \\hat{y}) = \\sum_{i = 1}^m (y_i - \\hat{y}_i)^T (z^*(\\hat{y}_i) - z^*(y_i))\n",
    "$$\n",
    "\n",
    "This clarifies that it can be minimized in two ways:\n",
    "\n",
    "* Either by making the two _solutions_ as similar as possible, i.e. $z^*(\\hat{y}_i) \\simeq z^*(y_i)$\n",
    "* ...Or by making the two _costs_ as similar as possible, i.e. $y_i \\simeq \\hat{y}_i$\n",
    "\n",
    "**Importantly, $y = 0$ is _no longer a minimizer_**"
   ]
  },
  {
   "cell_type": "markdown",
   "metadata": {},
   "source": [
    "**There are other viable surrogate losses**\n",
    "\n",
    "* A famous one is the SPO+, from [the \"Smart Predict, then Optimize\" paper](https://arxiv.org/abs/1710.08005)\n",
    "* The field has been recently surveyed by [Kotari et al.](https://proceedings.mlr.press/v162/mandi22a/mandi22a.pdf)"
   ]
  },
  {
   "cell_type": "markdown",
   "metadata": {
    "slideshow": {
     "slide_type": "slide"
    }
   },
   "source": [
    "# A DFL Implementation"
   ]
  },
  {
   "cell_type": "markdown",
   "metadata": {
    "slideshow": {
     "slide_type": "subslide"
    }
   },
   "source": [
    "## A Decision Focused Learning Implementation\n",
    "\n",
    "**An implementation of the method is available in the `util` module**\n",
    "\n",
    "The code relies (again) on subclassing the `keras.Model` class\n",
    "\n",
    "```python\n",
    "class DFLModel(keras.Model):\n",
    "    def __init__(self, prb, ..., **params):\n",
    "        super(DFLModel, self).__init__(**params)\n",
    "        self.prb = prb\n",
    "        ...\n",
    "```\n",
    "\n",
    "At construction time, we need to _pass the optimization problem_ as an argument\n",
    "\n",
    "```python\n",
    "nnin = keras.Input(input_size)\n",
    "nnout = nnin\n",
    "for h in hidden:\n",
    "    nnout = layers.Dense(h, activation='relu')(nnout)\n",
    "nnout = layers.Dense(output_size, activation=output_activation)(nnout)\n",
    "model = DFLModel(problem, inputs=nnin, outputs=nnout, ...)\n",
    "```"
   ]
  },
  {
   "cell_type": "markdown",
   "metadata": {
    "slideshow": {
     "slide_type": "subslide"
    }
   },
   "source": [
    "## A Decision Focused Learning Implementation\n",
    "\n",
    "**The `fit` function is overloaded**\n",
    "\n",
    "* We compute all the optimal solutions w.r.t. the true costs, i.e. $z^*(\\hat{y}_i)$\n",
    "* Then we calling the parent `fit` function\n",
    "\n",
    "```python\n",
    "def fit(self, X, y, **kwargs):\n",
    "    # Precompute all solutions for the true costs\n",
    "    self.sol_store = []\n",
    "    for c in y:\n",
    "        sol, closed = self.prb.solve(c, tlim=self.tlim)\n",
    "        self.sol_store.append(sol)\n",
    "    self.sol_store = np.array(self.sol_store)\n",
    "    # Call the normal fit method\n",
    "    return super(DFLModel, self).fit(X, y, **kwargs)\n",
    "```"
   ]
  },
  {
   "cell_type": "markdown",
   "metadata": {
    "slideshow": {
     "slide_type": "subslide"
    }
   },
   "source": [
    "## A Decision Focused Learning Implementation\n",
    "\n",
    "**In the `train_step` method, we compute the surrogate loss**\n",
    "\n",
    "```python\n",
    "    def train_step(self, data):\n",
    "        x, costs_true = data\n",
    "        ...\n",
    "        with tf.GradientTape() as tape:\n",
    "            costs = self(x, training=True) # obtain predictions\n",
    "            sols, tsols = [], []\n",
    "            for c, tc in zip(costs.numpy(), costs_true.numpy()):\n",
    "                sol, closed = prb.solve(c, ...) # Best w.r.t. predictions\n",
    "                sols.append(sol)\n",
    "                tsol = self._find_best(tc) # Best w.r.t. true costs\n",
    "                tsols.append(tsol)\n",
    "            sols, tsols = np.array(sols), np.array(tsols)\n",
    "            cdiff = costs - costs_true # cost difference\n",
    "            sdiff = tsols - sols # solution difference\n",
    "            loss = tf.reduce_mean(tf.reduce_sum(cdiff * sdiff, axis=1))\n",
    "        ...\n",
    "```"
   ]
  },
  {
   "cell_type": "markdown",
   "metadata": {
    "slideshow": {
     "slide_type": "subslide"
    }
   },
   "source": [
    "## Early Training\n",
    "\n",
    "**Let's train our decision-focused model for a few epochs**"
   ]
  },
  {
   "cell_type": "code",
   "execution_count": 12,
   "metadata": {
    "scrolled": true
   },
   "outputs": [
    {
     "name": "stdout",
     "output_type": "stream",
     "text": [
      "Epoch 1/30\n",
      "11/11 [==============================] - 1s 58ms/step - loss: 1.0399\n",
      "Epoch 2/30\n",
      "11/11 [==============================] - 1s 63ms/step - loss: 0.9810\n",
      "Epoch 3/30\n",
      "11/11 [==============================] - 1s 80ms/step - loss: 0.9249\n",
      "Epoch 4/30\n",
      "11/11 [==============================] - 1s 92ms/step - loss: 0.8474\n",
      "Epoch 5/30\n",
      "11/11 [==============================] - 1s 101ms/step - loss: 0.7762\n",
      "Epoch 6/30\n",
      "11/11 [==============================] - 1s 117ms/step - loss: 0.7148\n",
      "Epoch 7/30\n",
      "11/11 [==============================] - 1s 124ms/step - loss: 0.6652\n",
      "Epoch 8/30\n",
      "11/11 [==============================] - 1s 126ms/step - loss: 0.6217\n",
      "Epoch 9/30\n",
      "11/11 [==============================] - 1s 130ms/step - loss: 0.5786\n",
      "Epoch 10/30\n",
      "11/11 [==============================] - 1s 128ms/step - loss: 0.5353\n",
      "Epoch 11/30\n",
      "11/11 [==============================] - 1s 130ms/step - loss: 0.4757\n",
      "Epoch 12/30\n",
      "11/11 [==============================] - 1s 113ms/step - loss: 0.4267\n",
      "Epoch 13/30\n",
      "11/11 [==============================] - 1s 119ms/step - loss: 0.3736\n",
      "Epoch 14/30\n",
      "11/11 [==============================] - 1s 128ms/step - loss: 0.3187\n",
      "Epoch 15/30\n",
      "11/11 [==============================] - 1s 124ms/step - loss: 0.3133\n",
      "Epoch 16/30\n",
      "11/11 [==============================] - 1s 132ms/step - loss: 0.2480\n",
      "Epoch 17/30\n",
      "11/11 [==============================] - 1s 128ms/step - loss: 0.1692\n",
      "Epoch 18/30\n",
      "11/11 [==============================] - 1s 134ms/step - loss: 0.1532\n",
      "Epoch 19/30\n",
      "11/11 [==============================] - 2s 138ms/step - loss: 0.1303\n",
      "Epoch 20/30\n",
      "11/11 [==============================] - 1s 114ms/step - loss: 0.1261\n",
      "Epoch 21/30\n",
      "11/11 [==============================] - 1s 112ms/step - loss: 0.0877\n",
      "Epoch 22/30\n",
      "11/11 [==============================] - 1s 114ms/step - loss: 0.1153\n",
      "Epoch 23/30\n",
      "11/11 [==============================] - 2s 138ms/step - loss: 0.0835\n",
      "Epoch 24/30\n",
      "11/11 [==============================] - 2s 137ms/step - loss: 0.0923\n",
      "Epoch 25/30\n",
      "11/11 [==============================] - 2s 139ms/step - loss: 0.0677\n",
      "Epoch 26/30\n",
      "11/11 [==============================] - 2s 139ms/step - loss: 0.1003\n",
      "Epoch 27/30\n",
      "11/11 [==============================] - 1s 132ms/step - loss: 0.0601\n",
      "Epoch 28/30\n",
      "11/11 [==============================] - 1s 126ms/step - loss: 0.0807\n",
      "Epoch 29/30\n",
      "11/11 [==============================] - 1s 132ms/step - loss: 0.0900\n",
      "Epoch 30/30\n",
      "11/11 [==============================] - 1s 117ms/step - loss: 0.0826\n",
      "CPU times: user 37.3 s, sys: 3.29 s, total: 40.6 s\n",
      "Wall time: 40.5 s\n"
     ]
    }
   ],
   "source": [
    "dfm_early = util.build_dfl_ml_model(input_size=1, output_size=nitems, problem=prb, hidden=[], name='dfm', output_activation='linear')\n",
    "%time history = util.train_dfl_model(dfm_early, tr_in, tr_out, epochs=30, verbose=1, validation_split=0)"
   ]
  },
  {
   "cell_type": "markdown",
   "metadata": {
    "slideshow": {
     "slide_type": "subslide"
    }
   },
   "source": [
    "## What We Loose\n",
    "\n",
    "**It works, but there are some issues**"
   ]
  },
  {
   "cell_type": "code",
   "execution_count": 13,
   "metadata": {},
   "outputs": [
    {
     "data": {
      "image/png": "[encoded data removed]",
      "text/plain": [
       "<Figure size 1400x400 with 1 Axes>"
      ]
     },
     "metadata": {},
     "output_type": "display_data"
    },
    {
     "name": "stdout",
     "output_type": "stream",
     "text": [
      "Final loss: 0.0826 (training)\n"
     ]
    }
   ],
   "source": [
    "util.plot_training_history(history, figsize=figsize)"
   ]
  },
  {
   "cell_type": "markdown",
   "metadata": {},
   "source": [
    "* The loss curve is less smooth (since we are using a _sub_-gradient)\n",
    "* Training takes longer (since we need to solve optimization problems)"
   ]
  },
  {
   "cell_type": "markdown",
   "metadata": {
    "slideshow": {
     "slide_type": "subslide"
    }
   },
   "source": [
    "## What We Loose\n",
    "\n",
    "**We also loose _a lot_ in terms of accuracy**\n",
    "\n",
    "These are the results for our previous \"early\" training model"
   ]
  },
  {
   "cell_type": "code",
   "execution_count": 14,
   "metadata": {},
   "outputs": [
    {
     "name": "stdout",
     "output_type": "stream",
     "text": [
      "R2: -1.86, MAE: 0.32, RMSE: 0.43 (training)\n",
      "R2: -1.92, MAE: 0.32, RMSE: 0.43 (test)\n"
     ]
    }
   ],
   "source": [
    "r2, mae, rmse = util.get_ml_metrics(fsm_early, tr_in, tr_out)\n",
    "print(f'R2: {r2:.2f}, MAE: {mae:.2}, RMSE: {rmse:.2f} (training)')\n",
    "r2, mae, rmse = util.get_ml_metrics(fsm_early, ts_in, ts_out)\n",
    "print(f'R2: {r2:.2f}, MAE: {mae:.2}, RMSE: {rmse:.2f} (test)')"
   ]
  },
  {
   "cell_type": "markdown",
   "metadata": {},
   "source": [
    "...And these are the results for the decision-focused model"
   ]
  },
  {
   "cell_type": "code",
   "execution_count": 15,
   "metadata": {},
   "outputs": [
    {
     "name": "stdout",
     "output_type": "stream",
     "text": [
      "R2: -5.24, MAE: 0.6, RMSE: 0.65 (training)\n",
      "R2: -5.37, MAE: 0.6, RMSE: 0.66 (test)\n"
     ]
    }
   ],
   "source": [
    "r2, mae, rmse = util.get_ml_metrics(dfm_early, tr_in, tr_out)\n",
    "print(f'R2: {r2:.2f}, MAE: {mae:.2}, RMSE: {rmse:.2f} (training)')\n",
    "r2, mae, rmse = util.get_ml_metrics(dfm_early, ts_in, ts_out)\n",
    "print(f'R2: {r2:.2f}, MAE: {mae:.2}, RMSE: {rmse:.2f} (test)')"
   ]
  },
  {
   "cell_type": "markdown",
   "metadata": {
    "slideshow": {
     "slide_type": "subslide"
    }
   },
   "source": [
    "## What We Gain\n",
    "\n",
    "**But in terms of regret, we are doing better!**"
   ]
  },
  {
   "cell_type": "code",
   "execution_count": 16,
   "metadata": {},
   "outputs": [
    {
     "data": {
      "image/png": "[encoded data removed]",
      "text/plain": [
       "<Figure size 1400x400 with 1 Axes>"
      ]
     },
     "metadata": {},
     "output_type": "display_data"
    },
    {
     "name": "stdout",
     "output_type": "stream",
     "text": [
      "Mean: 0.034 (decision-focused), 0.825 (two stage)\n"
     ]
    }
   ],
   "source": [
    "r_ts_fsm_early = util.compute_regret(prb, fsm_early, ts_in, ts_out)\n",
    "r_ts_dfm_early = util.compute_regret(prb, dfm_early, ts_in, ts_out)\n",
    "util.plot_histogram(r_ts_dfm_early, figsize=figsize, label='decision-focused', data2=r_ts_fsm_early, label2='two stage', print_mean=True)"
   ]
  },
  {
   "cell_type": "markdown",
   "metadata": {
    "slideshow": {
     "slide_type": "subslide"
    }
   },
   "source": [
    "## Speeding Up the Process\n",
    "\n",
    "**Training speed is a major bottleneck for decision-focused learning**\n",
    "\n",
    "We will address that by [keeping a solution cache](https://people.cs.kuleuven.be/~tias.guns/files/ijcai21_nce_solpool.pdf)\n",
    "\n",
    "* We store all computed solutions in a set $S$\n",
    "* Then we compute $z^*(y_i)$ via simple enumeration:\n",
    "\n",
    "$$\n",
    "z^*(y_i) = \\text{argmin}_{z \\in S} c(z, y_i)\n",
    "$$\n",
    "\n",
    "**Occasionaly, we may compute a new solution and update the cache**\n",
    "\n",
    "E.g. we can trigger this with a low probability per sample"
   ]
  },
  {
   "cell_type": "markdown",
   "metadata": {},
   "source": [
    "**An alternative consists in [using a problem relaxation](https://arxiv.org/pdf/2010.13943)**\n",
    "\n",
    "E.g. A Linear Programs instead of a Mixed Integer Linear Program"
   ]
  },
  {
   "cell_type": "markdown",
   "metadata": {
    "slideshow": {
     "slide_type": "subslide"
    }
   },
   "source": [
    "## Implementing Solution Caching\n",
    "\n",
    "**A solution caching mechanism is implemented in our code**\n",
    "\n",
    "The computation of $z^*(y_i)$ is triggered with a _controllable probability_\n",
    "\n",
    "```python\n",
    "def train_step(self, data):\n",
    "    ...\n",
    "    with tf.GradientTape() as tape:\n",
    "        ...\n",
    "        for c, tc in zip(costs.numpy(), costs_true.numpy()):\n",
    "            if np.random.rand() < self.recompute_chance: # guard\n",
    "                sol, closed = prb.solve(c, tlim=self.tlim) # recompute\n",
    "                if self.recompute_chance < 1: # update cache\n",
    "                    if not (self.sol_store == sol).all(axis=1).any():\n",
    "                        self.sol_store = np.vstack((self.sol_store, sol))\n",
    "            else:\n",
    "                sol = self._find_best(c) # look up in the cache\n",
    "            ...\n",
    "        ...\n",
    "```"
   ]
  },
  {
   "cell_type": "markdown",
   "metadata": {
    "slideshow": {
     "slide_type": "subslide"
    }
   },
   "source": [
    "## Training With Solution Caching\n",
    "\n",
    "**Let's train the model with a solution cache and 5% recomputation chance**"
   ]
  },
  {
   "cell_type": "code",
   "execution_count": 18,
   "metadata": {
    "scrolled": false
   },
   "outputs": [
    {
     "name": "stdout",
     "output_type": "stream",
     "text": [
      "CPU times: user 13.4 s, sys: 668 ms, total: 14.1 s\n",
      "Wall time: 13.7 s\n"
     ]
    },
    {
     "data": {
      "image/png": "[encoded data removed]",
      "text/plain": [
       "<Figure size 1400x400 with 1 Axes>"
      ]
     },
     "metadata": {},
     "output_type": "display_data"
    },
    {
     "name": "stdout",
     "output_type": "stream",
     "text": [
      "Final loss: 0.0023 (training)\n"
     ]
    }
   ],
   "source": [
    "dfm_late = util.build_dfl_ml_model(input_size=1, output_size=nitems, problem=prb, recompute_chance=0.05, hidden=[], name='dfm_cache', output_activation='linear')\n",
    "%time history = util.train_dfl_model(dfm_late, tr_in, tr_out, epochs=150, verbose=0, validation_split=0)\n",
    "util.plot_training_history(history, figsize=figsize)"
   ]
  },
  {
   "cell_type": "markdown",
   "metadata": {
    "slideshow": {
     "slide_type": "subslide"
    }
   },
   "source": [
    "## Accuracy Comparison\n",
    "\n",
    "**Since we manage to train the model to (approximate) convergence**\n",
    "\n",
    "...It makes sense to compare with the \"late\" linear regression approach"
   ]
  },
  {
   "cell_type": "code",
   "execution_count": 20,
   "metadata": {},
   "outputs": [
    {
     "name": "stdout",
     "output_type": "stream",
     "text": [
      "R2: 0.79, MAE: 0.097, RMSE: 0.12 (training)\n",
      "R2: 0.78, MAE: 0.1, RMSE: 0.12 (test)\n"
     ]
    }
   ],
   "source": [
    "r2, mae, rmse = util.get_ml_metrics(fsm_late, tr_in, tr_out)\n",
    "print(f'R2: {r2:.2f}, MAE: {mae:.2}, RMSE: {rmse:.2f} (training)')\n",
    "r2, mae, rmse = util.get_ml_metrics(fsm_late, ts_in, ts_out)\n",
    "print(f'R2: {r2:.2f}, MAE: {mae:.2}, RMSE: {rmse:.2f} (test)')"
   ]
  },
  {
   "cell_type": "markdown",
   "metadata": {},
   "source": [
    "In terms of accuracy we are doing still quite poorly"
   ]
  },
  {
   "cell_type": "code",
   "execution_count": 21,
   "metadata": {},
   "outputs": [
    {
     "name": "stdout",
     "output_type": "stream",
     "text": [
      "R2: -7.00, MAE: 0.66, RMSE: 0.74 (training)\n",
      "R2: -7.27, MAE: 0.66, RMSE: 0.74 (test)\n"
     ]
    }
   ],
   "source": [
    "r2, mae, rmse = util.get_ml_metrics(dfm_late, tr_in, tr_out)\n",
    "print(f'R2: {r2:.2f}, MAE: {mae:.2}, RMSE: {rmse:.2f} (training)')\n",
    "r2, mae, rmse = util.get_ml_metrics(dfm_late, ts_in, ts_out)\n",
    "print(f'R2: {r2:.2f}, MAE: {mae:.2}, RMSE: {rmse:.2f} (test)')"
   ]
  },
  {
   "cell_type": "markdown",
   "metadata": {
    "slideshow": {
     "slide_type": "subslide"
    }
   },
   "source": [
    "## Regret Comparison\n",
    "\n",
    "**Both approaches work well, but we beat LR by a factor of at least 2**"
   ]
  },
  {
   "cell_type": "code",
   "execution_count": 22,
   "metadata": {},
   "outputs": [
    {
     "data": {
      "image/png": "[encoded data removed]",
      "text/plain": [
       "<Figure size 1400x400 with 1 Axes>"
      ]
     },
     "metadata": {},
     "output_type": "display_data"
    },
    {
     "name": "stdout",
     "output_type": "stream",
     "text": [
      "Mean: 0.009 (decision-focused), 0.020 (two stage)\n"
     ]
    }
   ],
   "source": [
    "r_ts_fsm_late = util.compute_regret(prb, fsm_late, ts_in, ts_out)\n",
    "r_ts_dfm_late = util.compute_regret(prb, dfm_late, ts_in, ts_out)\n",
    "util.plot_histogram(r_ts_dfm_late, figsize=figsize, label='decision-focused', data2=r_ts_fsm_late, label2='two stage', print_mean=True)"
   ]
  }
 ],
 "metadata": {
  "celltoolbar": "Slideshow",
  "kernelspec": {
   "display_name": "Python 3 (ipykernel)",
   "language": "python",
   "name": "python3"
  },
  "language_info": {
   "codemirror_mode": {
    "name": "ipython",
    "version": 3
   },
   "file_extension": ".py",
   "mimetype": "text/x-python",
   "name": "python",
   "nbconvert_exporter": "python",
   "pygments_lexer": "ipython3",
   "version": "3.8.10"
  },
  "rise": {
   "center": false,
   "enable_chalkboard": true,
   "transition": "fade"
  }
 },
 "nbformat": 4,
 "nbformat_minor": 4
}
